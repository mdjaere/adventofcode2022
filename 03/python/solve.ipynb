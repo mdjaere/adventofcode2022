{
 "cells": [
  {
   "cell_type": "code",
   "execution_count": 115,
   "metadata": {},
   "outputs": [],
   "source": [
    "import sys\n",
    "infile = \"input\"\n",
    "lines = [line.strip() for line in open(infile)]"
   ]
  },
  {
   "cell_type": "markdown",
   "metadata": {},
   "source": []
  },
  {
   "cell_type": "code",
   "execution_count": 116,
   "metadata": {},
   "outputs": [],
   "source": [
    "def getOrder(c):\n",
    "    o = ord(c) - ord(\"a\") + 1\n",
    "    if o < 0:\n",
    "        o = ord(c) - ord(\"A\") + 27\n",
    "    return o\n"
   ]
  },
  {
   "cell_type": "code",
   "execution_count": 117,
   "metadata": {},
   "outputs": [
    {
     "name": "stdout",
     "output_type": "stream",
     "text": [
      "8298\n"
     ]
    }
   ],
   "source": [
    "score = 0\n",
    "for sack in lines:\n",
    "    half = int(len(sack) / 2)\n",
    "    front, back = sack[0:half], sack[half:]\n",
    "    front, back\n",
    "    same = list(set(front).intersection(set(back)))[0]\n",
    "    score += getOrder(same)\n",
    "print(score)"
   ]
  },
  {
   "cell_type": "code",
   "execution_count": 118,
   "metadata": {},
   "outputs": [
    {
     "name": "stdout",
     "output_type": "stream",
     "text": [
      "2708\n"
     ]
    }
   ],
   "source": [
    "score_2 = 0\n",
    "i = 0\n",
    "while i < len(lines):\n",
    "    same = list(set(lines[i]).intersection(set(lines[i+1])).intersection(set(lines[i+2])))[0]\n",
    "    o = getOrder(same)\n",
    "    score_2 += o\n",
    "    i = i + 3\n",
    "print(score_2)"
   ]
  },
  {
   "cell_type": "code",
   "execution_count": null,
   "metadata": {},
   "outputs": [],
   "source": []
  }
 ],
 "metadata": {
  "kernelspec": {
   "display_name": "Python 3.9.7 ('base')",
   "language": "python",
   "name": "python3"
  },
  "language_info": {
   "codemirror_mode": {
    "name": "ipython",
    "version": 3
   },
   "file_extension": ".py",
   "mimetype": "text/x-python",
   "name": "python",
   "nbconvert_exporter": "python",
   "pygments_lexer": "ipython3",
   "version": "3.9.7"
  },
  "orig_nbformat": 4,
  "vscode": {
   "interpreter": {
    "hash": "25b9408291d6e02a991de60c77e33a0ea9dd30a3167c33e8864857309fab9930"
   }
  }
 },
 "nbformat": 4,
 "nbformat_minor": 2
}
