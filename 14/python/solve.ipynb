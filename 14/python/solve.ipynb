{
 "cells": [
  {
   "cell_type": "code",
   "execution_count": 7,
   "metadata": {},
   "outputs": [
    {
     "name": "stdout",
     "output_type": "stream",
     "text": [
      "ROCKS {(502, 8), (497, 6), (497, 9), (498, 4), (499, 9), (501, 9), (502, 7), (502, 4), (494, 9), (496, 6), (498, 9), (496, 9), (498, 6), (502, 9), (500, 9), (502, 6), (498, 5), (503, 4), (495, 9), (502, 5)}\n",
      "LEN 20\n",
      "FLOOR 9\n"
     ]
    }
   ],
   "source": [
    "infile = \"example\"\n",
    "lines = [line.strip() for line in open(infile)]\n",
    "\n",
    "rocks = set()\n",
    "\n",
    "floor = 0\n",
    "\n",
    "for line in lines:\n",
    "  coords = [[int(x) for x in f.split(\",\")] for f in line.split(\" -> \")]\n",
    "  for i in range(len(coords) - 1):\n",
    "    s = coords[i]\n",
    "    e = coords[i + 1]\n",
    "    x_domain= sorted([s[0], e[0]])\n",
    "    y_domain = sorted([s[1], e[1]])\n",
    "    for x in range(x_domain[0], x_domain[1] + 1):\n",
    "      for y in range(y_domain[0], y_domain[1] + 1):\n",
    "        floor = max(floor, y)\n",
    "        rocks.add((x, y))\n",
    "print(\"ROCKS\", rocks)\n",
    "print(\"LEN\", len(rocks))\n",
    "print(\"FLOOR\", floor)\n",
    "\n",
    "solids = set(rocks)"
   ]
  },
  {
   "cell_type": "code",
   "execution_count": 27,
   "metadata": {},
   "outputs": [
    {
     "ename": "KeyboardInterrupt",
     "evalue": "",
     "output_type": "error",
     "traceback": [
      "\u001b[0;31m---------------------------------------------------------------------------\u001b[0m",
      "\u001b[0;31mKeyboardInterrupt\u001b[0m                         Traceback (most recent call last)",
      "\u001b[0;32m/var/folders/mp/6c2z64t13vs5dsm7tvqnwj900000gr/T/ipykernel_98574/2765276627.py\u001b[0m in \u001b[0;36m<module>\u001b[0;34m\u001b[0m\n\u001b[1;32m      6\u001b[0m         \u001b[0mto_next\u001b[0m \u001b[0;34m=\u001b[0m \u001b[0;32mFalse\u001b[0m\u001b[0;34m\u001b[0m\u001b[0;34m\u001b[0m\u001b[0m\n\u001b[1;32m      7\u001b[0m         candidates = [\n\u001b[0;32m----> 8\u001b[0;31m             \u001b[0;34m(\u001b[0m\u001b[0mgr_x\u001b[0m\u001b[0;34m,\u001b[0m \u001b[0mgr_y\u001b[0m \u001b[0;34m+\u001b[0m \u001b[0;36m1\u001b[0m\u001b[0;34m)\u001b[0m\u001b[0;34m,\u001b[0m\u001b[0;34m\u001b[0m\u001b[0;34m\u001b[0m\u001b[0m\n\u001b[0m\u001b[1;32m      9\u001b[0m             \u001b[0;34m(\u001b[0m\u001b[0mgr_x\u001b[0m \u001b[0;34m-\u001b[0m \u001b[0;36m1\u001b[0m\u001b[0;34m,\u001b[0m \u001b[0mgr_y\u001b[0m \u001b[0;34m+\u001b[0m \u001b[0;36m1\u001b[0m\u001b[0;34m)\u001b[0m\u001b[0;34m,\u001b[0m\u001b[0;34m\u001b[0m\u001b[0;34m\u001b[0m\u001b[0m\n\u001b[1;32m     10\u001b[0m             \u001b[0;34m(\u001b[0m\u001b[0mgr_x\u001b[0m \u001b[0;34m+\u001b[0m \u001b[0;36m1\u001b[0m\u001b[0;34m,\u001b[0m \u001b[0mgr_y\u001b[0m \u001b[0;34m+\u001b[0m \u001b[0;36m1\u001b[0m\u001b[0;34m)\u001b[0m\u001b[0;34m\u001b[0m\u001b[0;34m\u001b[0m\u001b[0m\n",
      "\u001b[0;31mKeyboardInterrupt\u001b[0m: "
     ]
    }
   ],
   "source": [
    "\n",
    "solved = False\n",
    "while not solved:\n",
    "    gr_x, gr_y = (500, 0)\n",
    "    settled = False\n",
    "    while True:\n",
    "        to_next = False\n",
    "        candidates = [\n",
    "            (gr_x, gr_y + 1),\n",
    "            (gr_x - 1, gr_y + 1),\n",
    "            (gr_x + 1, gr_y + 1)\n",
    "        ]\n",
    "        for c in candidates:\n",
    "            if c not in solids:\n",
    "                gr_x, gr_y = c\n",
    "                solved = True if gr_y > floor else False\n",
    "                to_next = True\n",
    "                break\n",
    "        if to_next:\n",
    "            continue\n",
    "        if not solved:\n",
    "            solids.add( (gr_x, gr_y) )\n",
    "        break\n",
    "\n",
    "print(len(solids.difference(rocks)))\n"
   ]
  },
  {
   "cell_type": "code",
   "execution_count": null,
   "metadata": {},
   "outputs": [],
   "source": []
  }
 ],
 "metadata": {
  "kernelspec": {
   "display_name": "Python 3.9.7 ('base')",
   "language": "python",
   "name": "python3"
  },
  "language_info": {
   "codemirror_mode": {
    "name": "ipython",
    "version": 3
   },
   "file_extension": ".py",
   "mimetype": "text/x-python",
   "name": "python",
   "nbconvert_exporter": "python",
   "pygments_lexer": "ipython3",
   "version": "3.9.7"
  },
  "orig_nbformat": 4,
  "vscode": {
   "interpreter": {
    "hash": "25b9408291d6e02a991de60c77e33a0ea9dd30a3167c33e8864857309fab9930"
   }
  }
 },
 "nbformat": 4,
 "nbformat_minor": 2
}
