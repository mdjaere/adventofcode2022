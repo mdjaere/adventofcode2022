{
 "cells": [
  {
   "cell_type": "code",
   "execution_count": 510,
   "metadata": {},
   "outputs": [],
   "source": [
    "import re\n",
    "import math\n",
    "\n",
    "infile = \"input\"\n",
    "lines = [line.strip() for line in open(infile)]\n"
   ]
  },
  {
   "cell_type": "code",
   "execution_count": 511,
   "metadata": {},
   "outputs": [],
   "source": [
    "data = [[int(x) for x in re.findall('-?\\d+', line)] for line in lines]\n",
    "sensors, beacons = zip(*[[(sx, sy), (bx, by)] for sx, sy, bx, by in data])\n",
    "distances = [abs(sx-bx) + abs(sy-by) for sx, sy, bx, by in data]"
   ]
  },
  {
   "cell_type": "code",
   "execution_count": 512,
   "metadata": {},
   "outputs": [
    {
     "name": "stdout",
     "output_type": "stream",
     "text": [
      "4961647\n"
     ]
    }
   ],
   "source": [
    "\n",
    "\n",
    "def x_ranges_at_y(y_line):\n",
    "    x_ranges = []\n",
    "    for i in range(len(sensors)):\n",
    "        sx, sy = sensors[i]\n",
    "        bx, by = beacons[i]\n",
    "        distance = abs(sx-bx) + abs(sy-by)\n",
    "        adjusted_x_distance = distance - abs(sy - y_line)\n",
    "        this_range = range(sx - adjusted_x_distance,\n",
    "                           sx + adjusted_x_distance + 1)\n",
    "        x_ranges.append(this_range)\n",
    "    return x_ranges\n",
    "\n",
    "\n",
    "if infile == \"example\":\n",
    "    sample_at_y = 10\n",
    "if infile == \"input\":\n",
    "    sample_at_y = 2000000\n",
    "x_ranges = x_ranges_at_y(sample_at_y)\n",
    "s_and_b_x_coords = set([x for x, y in beacons + sensors if y == sample_at_y])\n",
    "x_coords = set.union(*[set(item) for item in x_ranges]\n",
    "                     ).difference(s_and_b_x_coords)\n",
    "\n",
    "ans_1 = len(x_coords)\n",
    "if infile == \"input\":\n",
    "    assert(4961647 == ans_1)\n",
    "print(ans_1)\n"
   ]
  },
  {
   "cell_type": "code",
   "execution_count": 513,
   "metadata": {},
   "outputs": [],
   "source": [
    "# Entering another universe\n",
    "\n",
    "eight = math.pi/4\n",
    "sq_two = math.sqrt(2)\n",
    "\n",
    "frame_coordinates = []\n",
    "if infile == \"example\":\n",
    "    sample_at_y = 10\n",
    "    max_frame = 20\n",
    "    for y in range(0, max_frame + 1):\n",
    "        if y == 0 or y == max_frame:\n",
    "            for x in range(0, max_frame + 1):\n",
    "                frame_coordinates.append( (x,y) )\n",
    "        else:\n",
    "            frame_coordinates.append( (0,y) )\n",
    "            frame_coordinates.append( (max_frame,y) )\n",
    "if infile == \"input\":\n",
    "    sample_at_y = 2000000\n",
    "    max_frame = 4000000\n",
    "\n",
    "def transform(p):\n",
    "    x, y = p\n",
    "    return (\n",
    "        round((x * math.cos(eight) - y * math.sin(eight)) * sq_two),\n",
    "        round((x * math.sin(eight) + y * math.cos(eight)) * sq_two)\n",
    "    )\n",
    "\n",
    "\n",
    "def reverse_transform(p):\n",
    "    x, y = p\n",
    "    return (\n",
    "        round((x * math.cos(-eight) - y * math.sin(-eight)) / sq_two),\n",
    "        round((x * math.sin(-eight) + y * math.cos(-eight)) / sq_two)\n",
    "    )\n",
    "\n",
    "\n",
    "sensors_ = [transform(sensor) for sensor in sensors]\n",
    "beacons_ = [transform(beacon) for beacon in beacons]\n",
    "frame_coordinates_ = [transform(fc) for fc in frame_coordinates]\n",
    "\n",
    "domains_ = [[range(s_[0] - d, s_[0] + d + 1), range(s_[1] - d, s_[1] + d + 1)]\n",
    "            for d, s_ in zip(distances, sensors_)]\n"
   ]
  },
  {
   "cell_type": "code",
   "execution_count": 517,
   "metadata": {},
   "outputs": [],
   "source": [
    "if infile == \"example\":\n",
    "    out = \"\"\n",
    "    for y in range(-10, 41):\n",
    "        out += f\"\\n {y:<5}: \"\n",
    "        for x in range(-30, 31):\n",
    "            out += \"*\" if any(  x in x_range for x_range in x_ranges_at_y(y)  ) else \".\"\n",
    "            if (x,y) in frame_coordinates:\n",
    "                out = out[:-1] + \"F\"\n",
    "            if (x,y) in sensors:\n",
    "                out = out[:-1] + \"S\"\n",
    "            if (x,y) in beacons:\n",
    "                out = out[:-1] + \"B\"\n",
    "\n",
    "    print(out)\n",
    "    \n",
    "    \n",
    "if infile == \"example\":\n",
    "    out = \"\"\n",
    "    for y in range(-10, 41):\n",
    "        out += f\"\\n {y:<5}: \"\n",
    "        for x in range(-30, 31):\n",
    "            out += \"*\" if any(  x in x_range and y in y_range for x_range, y_range in domains_  ) else \".\"\n",
    "            if (x,y) in frame_coordinates_:\n",
    "                out = out[:-1] + \"F\"\n",
    "            if (x,y) in sensors_:\n",
    "                out = out[:-1] + \"S\"\n",
    "            if (x,y) in beacons_:\n",
    "                out = out[:-1] + \"B\"\n",
    "\n",
    "    print(out)\n",
    "\n",
    "    "
   ]
  },
  {
   "cell_type": "code",
   "execution_count": 516,
   "metadata": {},
   "outputs": [
    {
     "name": "stdout",
     "output_type": "stream",
     "text": [
      "12274327017867\n"
     ]
    }
   ],
   "source": [
    "\n",
    "\n",
    "x_values = set()\n",
    "for x_d, y_d in domains_:\n",
    "    x_values.add(x_d.start)\n",
    "    x_values.add(x_d.stop-1)\n",
    "\n",
    "x_cands = set()\n",
    "for x in x_values:\n",
    "    if x + 2 in x_values:\n",
    "        x_cands.add(x+1)\n",
    "    if x - 2 in x_values:\n",
    "        x_cands.add(x-1)\n",
    "\n",
    "##############\n",
    "\n",
    "y_values = set()\n",
    "for x_d, y_d in domains_:\n",
    "    y_values.add(y_d.start)\n",
    "    y_values.add(y_d.stop-1)\n",
    "\n",
    "y_cands = set()\n",
    "for y in y_values:\n",
    "    if y + 2 in y_values:\n",
    "        y_cands.add(y+1)\n",
    "    if y - 2 in y_values:\n",
    "        y_cands.add(y-1)\n",
    "\n",
    "########\n",
    "\n",
    "xy_cands = []\n",
    "\n",
    "for x in x_cands:\n",
    "    for y in y_cands:\n",
    "        if any(x in x_range and y in y_range for x_range, y_range in domains_):\n",
    "            continue\n",
    "        else:\n",
    "            xy = reverse_transform((x, y))\n",
    "            if infile == \"example\" and all(0<= x <= 20 for x in xy):\n",
    "                ans_coord = xy\n",
    "            if infile == \"input\" and all(0<= x <= 4000000 for x in xy):\n",
    "                ans_coord = xy\n",
    "\n",
    "ans_2 = ans_coord[0] * 4000000 + ans_coord[1]\n",
    "assert(ans_2 == 12274327017867)\n",
    "print(ans_2)\n",
    "        "
   ]
  },
  {
   "cell_type": "code",
   "execution_count": null,
   "metadata": {},
   "outputs": [],
   "source": []
  }
 ],
 "metadata": {
  "kernelspec": {
   "display_name": "Python 3.9.7 ('base')",
   "language": "python",
   "name": "python3"
  },
  "language_info": {
   "codemirror_mode": {
    "name": "ipython",
    "version": 3
   },
   "file_extension": ".py",
   "mimetype": "text/x-python",
   "name": "python",
   "nbconvert_exporter": "python",
   "pygments_lexer": "ipython3",
   "version": "3.9.7"
  },
  "orig_nbformat": 4,
  "vscode": {
   "interpreter": {
    "hash": "25b9408291d6e02a991de60c77e33a0ea9dd30a3167c33e8864857309fab9930"
   }
  }
 },
 "nbformat": 4,
 "nbformat_minor": 2
}
