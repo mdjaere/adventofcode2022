{
 "cells": [
  {
   "cell_type": "code",
   "execution_count": 237,
   "metadata": {},
   "outputs": [],
   "source": [
    "import sys\n",
    "\n",
    "infile = 'input'\n",
    "lines = [line.strip() for line in open(infile)]\n",
    "grid = [[ord(c) for c in line.strip()] for line in open(infile)]\n"
   ]
  },
  {
   "cell_type": "code",
   "execution_count": 238,
   "metadata": {},
   "outputs": [
    {
     "name": "stdout",
     "output_type": "stream",
     "text": [
      "(20, 0)\n",
      "(20, 139)\n"
     ]
    }
   ],
   "source": [
    "\n",
    "for ri in range(len(grid)):\n",
    "    for ci in range(len(grid[0])):\n",
    "        coor = (ri, ci)\n",
    "        v = lines[ri][ci]\n",
    "        if v == \"S\":\n",
    "            S = coor\n",
    "            grid[ri][ci] = ord(\"a\")\n",
    "        elif v == \"E\":\n",
    "            E = coor\n",
    "            grid[ri][ci] = ord(\"z\")\n",
    "print(S)\n",
    "print(E)\n"
   ]
  },
  {
   "cell_type": "code",
   "execution_count": 239,
   "metadata": {},
   "outputs": [
    {
     "name": "stdout",
     "output_type": "stream",
     "text": [
      "481\n"
     ]
    }
   ],
   "source": [
    "\n",
    "\n",
    "directions = [\n",
    "    (-1, 0),\n",
    "    (0, 1),\n",
    "    (1, 0),\n",
    "    (0, -1)\n",
    "]\n",
    "\n",
    "que = [S]\n",
    "paths = {S: []}\n",
    "\n",
    "found = []\n",
    "\n",
    "while que and not found:\n",
    "    current = que.pop(0)\n",
    "    # print(current)\n",
    "    for d in directions:\n",
    "        r = current[0] + d[0]\n",
    "        c = current[1] + d[1]\n",
    "        if not 0 <= r < len(grid) or not 0 <= c < len(grid[0]):\n",
    "            continue\n",
    "        new_h = grid[r][c]\n",
    "        old_h = grid[current[0]][current[1]]\n",
    "        if new_h > old_h + 1:\n",
    "            continue\n",
    "        new_coord = (r, c)\n",
    "        new_path = paths[current] + [new_coord]\n",
    "\n",
    "        if new_coord == E:\n",
    "            found.append(new_path)\n",
    "\n",
    "        if not new_coord in paths:\n",
    "            paths[new_coord] = new_path\n",
    "            que.append(new_coord)\n",
    "\n",
    "for f in found:\n",
    "    print(len(f))\n"
   ]
  },
  {
   "cell_type": "code",
   "execution_count": 241,
   "metadata": {},
   "outputs": [
    {
     "name": "stdout",
     "output_type": "stream",
     "text": [
      "480\n"
     ]
    }
   ],
   "source": [
    "\n",
    "que = [E]\n",
    "paths = {E: []}\n",
    "\n",
    "found = []\n",
    "\n",
    "while que and not found:\n",
    "    current = que.pop(0)\n",
    "    # print(current)\n",
    "    for d in directions:\n",
    "        r = current[0] + d[0]\n",
    "        c = current[1] + d[1]\n",
    "        if not 0 <= r < len(grid) or not 0 <= c < len(grid[0]):\n",
    "            continue\n",
    "        new_h = grid[r][c]\n",
    "        old_h = grid[current[0]][current[1]]\n",
    "        if new_h < old_h - 1:\n",
    "            continue\n",
    "        new_coord = (r, c)\n",
    "        new_path = paths[current] + [new_coord]\n",
    "\n",
    "        if new_h == ord(\"a\"):\n",
    "            found.append(new_path)\n",
    "\n",
    "        if not new_coord in paths:\n",
    "            paths[new_coord] = new_path\n",
    "            que.append(new_coord)\n",
    "\n",
    "for f in found:\n",
    "    print(len(f))\n"
   ]
  },
  {
   "cell_type": "code",
   "execution_count": null,
   "metadata": {},
   "outputs": [],
   "source": []
  }
 ],
 "metadata": {
  "kernelspec": {
   "display_name": "Python 3.9.7 ('base')",
   "language": "python",
   "name": "python3"
  },
  "language_info": {
   "codemirror_mode": {
    "name": "ipython",
    "version": 3
   },
   "file_extension": ".py",
   "mimetype": "text/x-python",
   "name": "python",
   "nbconvert_exporter": "python",
   "pygments_lexer": "ipython3",
   "version": "3.9.7"
  },
  "orig_nbformat": 4,
  "vscode": {
   "interpreter": {
    "hash": "25b9408291d6e02a991de60c77e33a0ea9dd30a3167c33e8864857309fab9930"
   }
  }
 },
 "nbformat": 4,
 "nbformat_minor": 2
}
